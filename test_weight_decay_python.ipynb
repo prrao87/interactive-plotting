{
 "cells": [
  {
   "cell_type": "markdown",
   "id": "81392691",
   "metadata": {},
   "source": [
    "# Interactive experimentation to test weight decay"
   ]
  },
  {
   "cell_type": "code",
   "execution_count": 1,
   "id": "13640061",
   "metadata": {},
   "outputs": [],
   "source": [
    "import ipywidgets as widgets\n",
    "import numpy as np\n",
    "import matplotlib.pyplot as plt\n",
    "%matplotlib notebook"
   ]
  },
  {
   "cell_type": "code",
   "execution_count": 2,
   "id": "328f4b89",
   "metadata": {},
   "outputs": [],
   "source": [
    "d = np.linspace(1, 14, 500)"
   ]
  },
  {
   "cell_type": "code",
   "execution_count": 3,
   "id": "f5a8aafe",
   "metadata": {},
   "outputs": [],
   "source": [
    "def get_data(n_days):\n",
    "    w1 = sigmoid(n_days - d)\n",
    "    w2 = sigmoid(d - n_days) / 2\n",
    "    summ = w1 + (2 * w2)\n",
    "    return w1, w2, summ"
   ]
  },
  {
   "cell_type": "code",
   "execution_count": 4,
   "id": "a69e1e94",
   "metadata": {},
   "outputs": [],
   "source": [
    "def plot_lines(w1, w2, summ):\n",
    "    fig = plt.figure()\n",
    "    ax = fig.add_subplot(1, 1, 1)\n",
    "    _ = ax.plot(d, w1, label=\"weights-1\", lw=2)\n",
    "    _ = ax.plot(d, w2, label=\"weights-2\", lw=2)\n",
    "    _ = ax.plot(d, summ, label=\"Sum of weights\", lw=2)\n",
    "    ax.set_xlabel(\"Number of days elapsed\")\n",
    "    ax.set_ylabel(\"Weight\")\n",
    "    return fig, ax"
   ]
  },
  {
   "cell_type": "code",
   "execution_count": 5,
   "id": "ca297a28",
   "metadata": {},
   "outputs": [],
   "source": [
    "def sigmoid(z):\n",
    "    return 1 / (1 + np.exp(-z))"
   ]
  },
  {
   "cell_type": "code",
   "execution_count": 6,
   "id": "b40b97eb",
   "metadata": {},
   "outputs": [],
   "source": [
    "def slider():\n",
    "    return widgets.IntSlider(\n",
    "        value=7,\n",
    "        min=0,\n",
    "        max=14,\n",
    "        step=1\n",
    "    )"
   ]
  },
  {
   "cell_type": "code",
   "execution_count": 7,
   "id": "2b316b00",
   "metadata": {},
   "outputs": [],
   "source": [
    "def update(n_days=slider()):\n",
    "    w1, w2, summ = get_data(n_days)\n",
    "    fig, ax = plot_lines(w1, w2, summ)\n",
    "    fig.canvas.draw_idle()"
   ]
  },
  {
   "cell_type": "code",
   "execution_count": 8,
   "id": "27fdd1d5",
   "metadata": {},
   "outputs": [
    {
     "data": {
      "application/vnd.jupyter.widget-view+json": {
       "model_id": "4fad70af860c4f768b2a090f35423fa4",
       "version_major": 2,
       "version_minor": 0
      },
      "text/plain": [
       "interactive(children=(IntSlider(value=7, description='n_days', max=14), Output()), _dom_classes=('widget-inter…"
      ]
     },
     "metadata": {},
     "output_type": "display_data"
    }
   ],
   "source": [
    "widgets.interact(update);"
   ]
  }
 ],
 "metadata": {
  "kernelspec": {
   "display_name": "venv_interactive_plot",
   "language": "python",
   "name": "venv_interactive_plot"
  },
  "language_info": {
   "codemirror_mode": {
    "name": "ipython",
    "version": 3
   },
   "file_extension": ".py",
   "mimetype": "text/x-python",
   "name": "python",
   "nbconvert_exporter": "python",
   "pygments_lexer": "ipython3",
   "version": "3.9.6"
  }
 },
 "nbformat": 4,
 "nbformat_minor": 5
}
